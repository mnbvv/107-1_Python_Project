{
 "cells": [
  {
   "cell_type": "code",
   "execution_count": 1,
   "metadata": {},
   "outputs": [],
   "source": [
    "import pandas as pd\n",
    "import numpy as np"
   ]
  },
  {
   "cell_type": "code",
   "execution_count": 2,
   "metadata": {},
   "outputs": [],
   "source": [
    "df_clean1 = pd.read_csv('../../NTU_大數據與商業分析Datasets/Orders.csv', low_memory=False)"
   ]
  },
  {
   "cell_type": "code",
   "execution_count": 3,
   "metadata": {},
   "outputs": [],
   "source": [
    "df_clean2 = df_clean1"
   ]
  },
  {
   "cell_type": "code",
   "execution_count": 4,
   "metadata": {
    "scrolled": true
   },
   "outputs": [
    {
     "data": {
      "text/plain": [
       "City\n",
       "1st         45\n",
       "25          10\n",
       "<fo         41\n",
       "Aya          2\n",
       "Cha          1\n",
       "Daf          2\n",
       "Hsi          3\n",
       "Hy           6\n",
       "Ins          2\n",
       "Jia          3\n",
       "Kao          5\n",
       "Keb          3\n",
       "Kot          2\n",
       "Nan         28\n",
       "New         32\n",
       "No.          3\n",
       "Quậ          6\n",
       "Tai          8\n",
       "Tao         18\n",
       "Xin          5\n",
       "Đại          1\n",
       "南投縣      74939\n",
       "台中市     815918\n",
       "台北市     705464\n",
       "台南市     407470\n",
       "台東市        431\n",
       "台東縣      34786\n",
       "嘉義市      55276\n",
       "嘉義縣      68262\n",
       "基隆市      89367\n",
       "宜蘭縣      87111\n",
       "屏東市        776\n",
       "屏東縣     125121\n",
       "彰化縣     201898\n",
       "新北市    1196609\n",
       "新竹市     148414\n",
       "新竹縣     129924\n",
       "桃園市     599460\n",
       "桃園縣         93\n",
       "澎湖縣      20190\n",
       "花蓮縣      69475\n",
       "苗栗縣     108647\n",
       "雲林縣      88407\n",
       "高雄市     580556\n",
       "Name: Quantity, dtype: int64"
      ]
     },
     "execution_count": 4,
     "metadata": {},
     "output_type": "execute_result"
    }
   ],
   "source": [
    "df_clean2.groupby(by='City')['Quantity'].sum()"
   ]
  },
  {
   "cell_type": "markdown",
   "metadata": {},
   "source": [
    "## 2.解決新舊制問題 \n",
    "## (直轄市:基隆、新竹、嘉義)(六都:臺北、高雄、新北、臺中、臺南、桃園)"
   ]
  },
  {
   "cell_type": "code",
   "execution_count": 5,
   "metadata": {},
   "outputs": [
    {
     "name": "stderr",
     "output_type": "stream",
     "text": [
      "/home/dongdong/.local/lib/python3.5/site-packages/ipykernel_launcher.py:9: FutureWarning: set_value is deprecated and will be removed in a future release. Please use .at[] or .iat[] accessors instead\n",
      "  if __name__ == '__main__':\n",
      "/home/dongdong/.local/lib/python3.5/site-packages/ipykernel_launcher.py:12: FutureWarning: set_value is deprecated and will be removed in a future release. Please use .at[] or .iat[] accessors instead\n",
      "  if sys.path[0] == '':\n",
      "/home/dongdong/.local/lib/python3.5/site-packages/ipykernel_launcher.py:3: FutureWarning: set_value is deprecated and will be removed in a future release. Please use .at[] or .iat[] accessors instead\n",
      "  This is separate from the ipykernel package so we can avoid doing imports until\n"
     ]
    }
   ],
   "source": [
    "for i, city in enumerate(df_clean2['City']):\n",
    "    if city =='桃園縣':\n",
    "        df_clean2.set_value(i, 'City', '桃園市')\n",
    "        \n",
    "    elif city == '台北縣':        \n",
    "        df_clean2.set_value(i, 'City', '新北市')\n",
    "        \n",
    "    elif city == '台東市':\n",
    "         df_clean2.set_value(i, 'City', '台東縣')\n",
    "            \n",
    "    elif city == '屏東市':        \n",
    "        df_clean2.set_value(i, 'City', '屏東縣')\n",
    "        \n",
    "    elif city == '台南縣':        \n",
    "        df_clean2.set_value(i, 'City', '台南市')"
   ]
  },
  {
   "cell_type": "code",
   "execution_count": 6,
   "metadata": {},
   "outputs": [
    {
     "data": {
      "text/plain": [
       "City\n",
       "1st         45\n",
       "25          10\n",
       "<fo         41\n",
       "Aya          2\n",
       "Cha          1\n",
       "Daf          2\n",
       "Hsi          3\n",
       "Hy           6\n",
       "Ins          2\n",
       "Jia          3\n",
       "Kao          5\n",
       "Keb          3\n",
       "Kot          2\n",
       "Nan         28\n",
       "New         32\n",
       "No.          3\n",
       "Quậ          6\n",
       "Tai          8\n",
       "Tao         18\n",
       "Xin          5\n",
       "Đại          1\n",
       "南投縣      74939\n",
       "台中市     815918\n",
       "台北市     705464\n",
       "台南市     407470\n",
       "台東縣      35217\n",
       "嘉義市      55276\n",
       "嘉義縣      68262\n",
       "基隆市      89367\n",
       "宜蘭縣      87111\n",
       "屏東縣     125897\n",
       "彰化縣     201898\n",
       "新北市    1196609\n",
       "新竹市     148414\n",
       "新竹縣     129924\n",
       "桃園市     599553\n",
       "澎湖縣      20190\n",
       "花蓮縣      69475\n",
       "苗栗縣     108647\n",
       "雲林縣      88407\n",
       "高雄市     580556\n",
       "Name: Quantity, dtype: int64"
      ]
     },
     "execution_count": 6,
     "metadata": {},
     "output_type": "execute_result"
    }
   ],
   "source": [
    "df_clean2.groupby(by='City')['Quantity'].sum()"
   ]
  },
  {
   "cell_type": "code",
   "execution_count": 7,
   "metadata": {},
   "outputs": [],
   "source": [
    "df_clean2.to_csv('df_clean2.csv')"
   ]
  }
 ],
 "metadata": {
  "kernelspec": {
   "display_name": "Python 3",
   "language": "python",
   "name": "python3"
  },
  "language_info": {
   "codemirror_mode": {
    "name": "ipython",
    "version": 3
   },
   "file_extension": ".py",
   "mimetype": "text/x-python",
   "name": "python",
   "nbconvert_exporter": "python",
   "pygments_lexer": "ipython3",
   "version": "3.5.2"
  }
 },
 "nbformat": 4,
 "nbformat_minor": 2
}
