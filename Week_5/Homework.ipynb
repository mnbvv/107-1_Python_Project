{
 "cells": [
  {
   "cell_type": "markdown",
   "metadata": {},
   "source": [
    "#### 讀取需要的函式庫"
   ]
  },
  {
   "cell_type": "code",
   "execution_count": 1,
   "metadata": {},
   "outputs": [],
   "source": [
    "from sklearn.feature_extraction.text import TfidfVectorizer\n",
    "from sklearn.feature_extraction.text import CountVectorizer\n",
    "from sklearn.metrics.pairwise import cosine_similarity\n",
    "from func import *\n",
    "import jieba\n",
    "import re\n",
    "import os\n",
    "# re -> \\d for number, \\s for any space (\\t\\r\\n...) "
   ]
  },
  {
   "cell_type": "markdown",
   "metadata": {},
   "source": [
    "#### 讀取資料夾中的資料"
   ]
  },
  {
   "cell_type": "code",
   "execution_count": 2,
   "metadata": {},
   "outputs": [
    {
     "name": "stdout",
     "output_type": "stream",
     "text": [
      "Unknown encode file :\n",
      "../../107-1PythonSampleCode/week_5/task_5/2015-4.txt\n",
      "../../107-1PythonSampleCode/week_5/task_5/2015-all.txt\n",
      "\n",
      "Number of unknown encoding files : 2\n",
      "Number of read files : 4\n",
      "Number of files : 6\n"
     ]
    }
   ],
   "source": [
    "path = '../../107-1PythonSampleCode/week_5/task_5/*.txt'\n",
    "title, data = readdir(path, 0.6)"
   ]
  },
  {
   "cell_type": "markdown",
   "metadata": {},
   "source": [
    "#### 顯示部份資料內容"
   ]
  },
  {
   "cell_type": "code",
   "execution_count": 3,
   "metadata": {},
   "outputs": [
    {
     "name": "stdout",
     "output_type": "stream",
     "text": [
      "----Document : 2012-4----\n",
      "股票代碼:3548\n",
      "兆利科技工業股份有限公司及其子公司\n",
      "合 併 財 務 報 表\n",
      "民國一○一年及一○○\n",
      "...\n",
      "587 客 戶 乙 318,057 358,352 $ 742,941 1,132,939\n",
      "~40\n",
      "\n",
      "----Document : 2014-4----\n",
      "\n",
      "壹、致股束報告書\n",
      "回顧-O三年，由於全球經濟景氣復甦緩慢，市場需求表現平淡，依Digitimes\n",
      "\n",
      "...\n",
      "及截至年報刊印日止之處理情形:無。\n",
      "\n",
      "（十三）其他重要風險及因應措泥:無。七、其他重要事項:無。\n",
      "\n",
      "\n",
      "----Document : 2016-4----\n",
      "\n",
      "壹、致股東報告書\n",
      "回顧一O五年,由於全球筆電品牌廠面臨關鍵零組件缺貨及漲價壓力,抑制筆記 型電腦整\n",
      "...\n",
      "款所定對股東權\n",
      "益或證券價格有重大影響之事項:無。\n",
      "- 221 -\n",
      "_______________\n",
      "\n",
      "----Document : 2016-all----\n",
      "一???五年度 年 報\n",
      "中華民國一???六年六月六日刊印\n",
      "本年報內容及本公司相關資訊可至下列網址查詢\n",
      "...\n",
      "款所定對股東權\n",
      "益或證券價格有重大影響之事項:無。\n",
      "- 221 -\n",
      "_______________\n",
      "\n"
     ]
    }
   ],
   "source": [
    "for i in range(len(data)):\n",
    "    print('----Document : {0}----'.format(title[i]))\n",
    "    print(data[i][:50], '...', data[i][-50:-1], sep='\\n', end='\\n\\n')"
   ]
  },
  {
   "cell_type": "markdown",
   "metadata": {},
   "source": [
    "#### 新增詞彙至自定義詞庫，並匯入該詞庫\n",
    "* savetofile(path, list_like_data)\n",
    "* example for list_like_data:\n",
    "  * [['來台']] : 完整 '來台' 字串被存入字典中\n",
    "  * ['來台'] :　'來台' 視為獨立字元，存入 '來' '台' 於字典中 "
   ]
  },
  {
   "cell_type": "code",
   "execution_count": 4,
   "metadata": {},
   "outputs": [
    {
     "name": "stderr",
     "output_type": "stream",
     "text": [
      "Building prefix dict from the default dictionary ...\n",
      "Loading model from cache /tmp/jieba.cache\n",
      "Loading model cost 1.137 seconds.\n",
      "Prefix dict has been built succesfully.\n"
     ]
    }
   ],
   "source": [
    "savetofile('./dict.txt', [['來台']])  # 完整字串　'來台'　被存入字典中\n",
    "jieba.load_userdict('./dict.txt')"
   ]
  },
  {
   "cell_type": "markdown",
   "metadata": {},
   "source": [
    "#### 新增詞彙至自定義停止詞彙中"
   ]
  },
  {
   "cell_type": "code",
   "execution_count": 5,
   "metadata": {},
   "outputs": [],
   "source": [
    "stopwords = ['一','二','三','四','五','六','用','淨','利','值','但','中','可','認','我','無','彙',\n",
    "             '列','將','對','之','率','已','由','佔','本','日','月','年','另','故','於','較',\n",
    "             '請','再','經','也','在','依','到','等','或','認列','為','按','比','仍','係','後','及',\n",
    "             '與','以','時','該','的','並','更','註','例如','可能','由於','因此','附註','部分','事項',\n",
    "             '各位','晶華','品牌','集團','幅度','資產','新','台幣','營業','受到','提供','使用','本年',\n",
    "             '說明','現金','成本','營業外','收入','結轉','分攤','其他','影響','帳金額','本會','計師',\n",
    "             '之會計','報表','會計師','財務','詳合','結果','預測','如下','之一','附註','附','註','其中',\n",
    "             '併','合','因為','查核','報告','性事','增加','會計','相對','仟元','金額','權益','能力',\n",
    "             '利益','股東','合理性','假設','無形','上','開關鍵','模型','支出','控制','計算','資金',\n",
    "             '評估','報告','因應','仟元','金額','權益','假設','無形','上','模型','支出','控制','計算',\n",
    "             '資金','評估','人次','重大','資訊','總額','民國','估計','','一副','公司','年度','包括',\n",
    "             '正確性','正','確性','減損','共為','預估','預算','維持','公開','整體','表示','特性','市場',\n",
    "             '科目','發生','年本','重要','判斷','主要','流量','意見','關鍵','同期','評價','正確','地區',\n",
    "             '總資產','執行','程序','測試','稅後淨利','股份有限公司']\n",
    "puncs_Full = '！？｡＂＃＄％＆＇（）()＊＋，－／：；＜＝＞＠［＼］$＾＿｀｛｜｝～｟｠｢｣､、〃》「」『』【】〔〕〖〗〘〙〚〛〜〝〞〟〰〾〿–—‘’‛“”„‟…‧﹏.。'\n",
    "puncs_Half = \"!?.#$%&'()*+,-/:;<=>@[]^_{}|~\\\\\\\"\"\n",
    "savetofile('./stopword.txt', [stopwords])"
   ]
  },
  {
   "cell_type": "code",
   "execution_count": 6,
   "metadata": {},
   "outputs": [
    {
     "data": {
      "text/plain": [
       "['一', '二', '三', '四', '五', '六', '用', '淨', '利', '值']"
      ]
     },
     "execution_count": 6,
     "metadata": {},
     "output_type": "execute_result"
    }
   ],
   "source": [
    "stopword = list(map(str.strip, open('./stopword.txt', 'r+').readlines()))\n",
    "stopword[0:10]"
   ]
  },
  {
   "cell_type": "markdown",
   "metadata": {},
   "source": [
    "#### 利用 jieba 對文件進行斷字，並統計字詞頻率，顯示前十名資料"
   ]
  },
  {
   "cell_type": "code",
   "execution_count": 7,
   "metadata": {},
   "outputs": [
    {
     "name": "stdout",
     "output_type": "stream",
     "text": [
      "Number of word in document (2012-4) :  2858\n",
      "[(' ', 4198), ('\\n', 928), ('1', 244), ('○', 189), ('3', 168), ('2', 143), ('兆利', 112), ('科技', 97), ('有限公司', 87), ('應', 71)]\n",
      "Number of word in document (2014-4) :  4231\n",
      "[('\\t', 6817), ('\\n', 3383), (' ', 3358), ('1', 467), ('2', 244), ('0', 224), ('損益', 201), ('金融', 181), ('3', 169), ('負債', 155)]\n",
      "Number of word in document (2016-4) :  7316\n",
      "[(' ', 11770), ('\\n', 3770), ('1', 690), ('2', 400), ('3', 309), ('有限公司', 270), ('董事', 251), ('○', 245), ('科技', 215), ('105', 212)]\n",
      "Number of word in document (2016-all) :  7779\n",
      "[(' ', 14377), ('\\n', 4217), ('1', 835), ('2', 524), ('3', 391), ('有限公司', 275), ('β', 274), ('董事', 259), ('○', 253), ('4', 249)]\n"
     ]
    }
   ],
   "source": [
    "wordDictionary = []\n",
    "for i in range(len(data)):\n",
    "    seg_list = jieba.cut(data[i], cut_all=False)\n",
    "    seg_list = list(seg_list)\n",
    "    wordDict = {}\n",
    "    for w in seg_list:\n",
    "        if (w not in stopword) and (w not in puncs_Full) and (w not in puncs_Half):\n",
    "            if w in wordDict:\n",
    "                wordDict[w] = wordDict[w] + 1\n",
    "            else:\n",
    "                wordDict[w] = 1\n",
    "    wordDictionary.append(wordDict)\n",
    "    print('Number of word in document ({0}) : '.format(title[i]), len(wordDict))\n",
    "    sort = sorted(wordDict.items(), key=lambda x: x[1], reverse = True)\n",
    "    print(sort[0:10])\n",
    "    data[i] = ' '.join(jieba.cut(data[i], cut_all=False))"
   ]
  },
  {
   "cell_type": "markdown",
   "metadata": {},
   "source": [
    "#### 顯示各文件低於閥值 (limit) 的字詞"
   ]
  },
  {
   "cell_type": "code",
   "execution_count": 8,
   "metadata": {},
   "outputs": [
    {
     "name": "stdout",
     "output_type": "stream",
     "text": [
      "----Document : 2012-4----\n",
      "已達, 之間, 可靠, 登記, 首次, 末, 093, 租賃合, 認列淨, 7640, 據, 申請, 向下, 額以, 控制力, 期限, 並訂定, 143, 資源, 9850, 生效, 過渡, 管理, 相等, 943, 026, 一個, 之表達, 696, 011, 常熟, 7510, 961, 最近, USD8, 絲釘, 1.750, 限額, 全數, 073, 低於當, 可能性, 九十八, 修訂, 725, 領贈, 可回收, 並適, 負擔, 配股, \n",
      "----Document : 2014-4----\n",
      "已達, 之間, 可靠, 登記, 首次, 末, 093, 租賃合, 認列淨, 7640, 據, 申請, 向下, 額以, 控制力, 期限, 並訂定, 143, 資源, 9850, 生效, 過渡, 管理, 相等, 943, 026, 一個, 之表達, 696, 011, 常熟, 7510, 961, 最近, USD8, 絲釘, 1.750, 限額, 全數, 073, 低於當, 可能性, 九十八, 修訂, 725, 領贈, 可回收, 並適, 負擔, 配股, \n",
      "----Document : 2016-4----\n",
      "已達, 之間, 可靠, 登記, 首次, 末, 093, 租賃合, 認列淨, 7640, 據, 申請, 向下, 額以, 控制力, 期限, 並訂定, 143, 資源, 9850, 生效, 過渡, 管理, 相等, 943, 026, 一個, 之表達, 696, 011, 常熟, 7510, 961, 最近, USD8, 絲釘, 1.750, 限額, 全數, 073, 低於當, 可能性, 九十八, 修訂, 725, 領贈, 可回收, 並適, 負擔, 配股, \n",
      "----Document : 2016-all----\n",
      "已達, 之間, 可靠, 登記, 首次, 末, 093, 租賃合, 認列淨, 7640, 據, 申請, 向下, 額以, 控制力, 期限, 並訂定, 143, 資源, 9850, 生效, 過渡, 管理, 相等, 943, 026, 一個, 之表達, 696, 011, 常熟, 7510, 961, 最近, USD8, 絲釘, 1.750, 限額, 全數, 073, 低於當, 可能性, 九十八, 修訂, 725, 領贈, 可回收, 並適, 負擔, 配股, \n"
     ]
    }
   ],
   "source": [
    "limit = 50\n",
    "wordsperdocument = 50\n",
    "for i in range(len(data)):\n",
    "    count = 0\n",
    "    print('----Document : {0}----'.format(title[i]))\n",
    "    for ind, value in wordDictionary[0].items():\n",
    "        if (value <= limit) & (count != wordsperdocument):\n",
    "            count += 1\n",
    "            print(ind, end = ', ')\n",
    "    print()"
   ]
  },
  {
   "cell_type": "markdown",
   "metadata": {},
   "source": [
    "#### 利用 wordDictionary 移除只出現一次的字詞，並顯示部份結果"
   ]
  },
  {
   "cell_type": "code",
   "execution_count": 9,
   "metadata": {},
   "outputs": [
    {
     "name": "stdout",
     "output_type": "stream",
     "text": [
      "document : 2012-4\n",
      "  : 3 \n",
      " 利 技  份    \n",
      " 合   併             \n",
      "  一 ○  及 一 ...          3 , 5    , 3   $    ,    1 , 2 ,  \n",
      " ~  \n",
      "\n",
      "document : 2014-4\n",
      "\n",
      " 壹 、 致 束   \n",
      " 顧 - O  ， 由 於 全球 景氣  甦 緩慢 ， 場 求  平淡 ，...: 無 。 \n",
      " \n",
      " （  ） 其 重  及 應 措泥 : 無 。  、 其 重  : 無 。 \n",
      " \n",
      "\n",
      "document : 2016-4\n",
      "\n",
      " 壹 、 致 東  \n",
      " 顧 一 O  , 由 於 全球 筆 牌 廠 臨鍵  缺及 漲 壓力 , 抑...  本法       對 東 \n",
      "  或 券 格  重  之 : 無 。 \n",
      " -   1   - \n",
      "\n",
      "\n",
      "document : 2016-all\n",
      "一 ? ? ? 五 年   年    \n",
      " 中 一 ? ? ? 六年   刊印 \n",
      " 本年  及 本  ...  本法       對 東 \n",
      "  或 券 格  重  之 : 無 。 \n",
      " -   1   - \n",
      "\n",
      "\n"
     ]
    }
   ],
   "source": [
    "for i in range(len(data)):\n",
    "    for key, value in wordDictionary[0].items():\n",
    "        if value <= limit:\n",
    "            data[i] = data[i].replace(key, '')\n",
    "    print('document :', title[i])\n",
    "    print(data[i][:50], '...', data[i][-50:-1], sep='', end='\\n\\n')"
   ]
  },
  {
   "cell_type": "markdown",
   "metadata": {},
   "source": [
    "#### 移除所有標點符號、非中文英文數字之資料"
   ]
  },
  {
   "cell_type": "code",
   "execution_count": 10,
   "metadata": {},
   "outputs": [],
   "source": [
    "for i in range(len(data)):\n",
    "    data[i] = re.sub('[^\\u4e00-\\u9fff ]', '', data[i])\n",
    "#[^\\u4e00-\\u9fff A-Za-z0-9]"
   ]
  },
  {
   "cell_type": "markdown",
   "metadata": {},
   "source": [
    "#### 印出部份斷字結果"
   ]
  },
  {
   "cell_type": "code",
   "execution_count": 11,
   "metadata": {},
   "outputs": [
    {
     "name": "stdout",
     "output_type": "stream",
     "text": [
      "document : 2012-4\n",
      "     利 技  份     合    ...                    \n",
      "\n",
      "document : 2014-4\n",
      " 壹  致 束    顧     由 於 ...  措泥  無    其 重   無  \n",
      "\n",
      "document : 2016-4\n",
      " 壹  致 東   顧 一    由 於 ...   重  之  無          \n",
      "\n",
      "document : 2016-all\n",
      "一    五 年   年     中 一 ...   重  之  無          \n",
      "\n"
     ]
    }
   ],
   "source": [
    "for i in range(len(data)):\n",
    "    print('document :', title[i])\n",
    "    print(data[i][:20], ' ... ', data[i][-20:-1], sep='', end='\\n\\n')"
   ]
  },
  {
   "cell_type": "markdown",
   "metadata": {},
   "source": [
    "#### 初始化 TFIDF 物件"
   ]
  },
  {
   "cell_type": "code",
   "execution_count": 12,
   "metadata": {},
   "outputs": [],
   "source": [
    "tfidf_vectorizer = TfidfVectorizer(min_df=0.3, analyzer = 'word', stop_words = stopword)\n",
    "#tfidf_vectorizer = CountVectorizer(stop_words = stopword)"
   ]
  },
  {
   "cell_type": "markdown",
   "metadata": {},
   "source": [
    "#### 顯示初始化時輸入的停止詞彙 "
   ]
  },
  {
   "cell_type": "code",
   "execution_count": 13,
   "metadata": {},
   "outputs": [
    {
     "name": "stdout",
     "output_type": "stream",
     "text": [
      "frozenset({'', '一', '等', '台幣', '意見', '無', '利', '或', '總額', '支出', '因此', '其中', '維持', '如下', '年', '發生', '請', '報表', '預算', '較', '併', '其他', '後', '性事', '整體', '主要', '按', '附註', '時', '結果', '用', '營業', '我', '依', '為', '因應', '年度', '率', '資產', '新', '會計師', '資訊', '認列', '佔', '各位', '表示', '列', '總資產', '日', '晶華', '資金', '正確', '包括', '的', '部分', '執行', '評價', '品牌', '認', '事項', '模型', '正', '市場', '受到', '由於', '分攤', '增加', '幅度', '特性', '稅後淨利', '集團', '程序', '本年', '中', '於', '與', '合', '預估', '由', '營業外', '例如', '重要', '但', '人次', '權益', '關鍵', '之一', '同期', '以', '彙', '比', '測試', '無形', '正確性', '科目', '帳金額', '二', '可', '該', '會計', '減損', '地區', '重大', '計算', '一副', '將', '附', '可能', '對', '使用', '能力', '假設', '現金', '註', '已', '共為', '之', '六', '利益', '股份有限公司', '詳合', '提供', '股東', '本', '報告', '收入', '預測', '再', '金額', '仟元', '仍', '公司', '之會計', '結轉', '月', '財務', '淨', '也', '及', '估計', '本會', '說明', '係', '查核', '四', '開關鍵', '民國', '三', '評估', '公開', '因為', '合理性', '確性', '五', '流量', '並', '另', '故', '在', '相對', '控制', '成本', '判斷', '影響', '上', '經', '計師', '年本', '值', '到', '更'})\n"
     ]
    }
   ],
   "source": [
    "print(tfidf_vectorizer.get_stop_words())"
   ]
  },
  {
   "cell_type": "markdown",
   "metadata": {},
   "source": [
    "#### 計算 TFIDF 詞頻矩陣"
   ]
  },
  {
   "cell_type": "code",
   "execution_count": 14,
   "metadata": {},
   "outputs": [],
   "source": [
    "tfidf_matrix = tfidf_vectorizer.fit_transform(data)"
   ]
  },
  {
   "cell_type": "markdown",
   "metadata": {},
   "source": [
    "#### 顯示詞頻矩陣大小"
   ]
  },
  {
   "cell_type": "code",
   "execution_count": 15,
   "metadata": {},
   "outputs": [
    {
     "data": {
      "text/plain": [
       "(4, 1282)"
      ]
     },
     "execution_count": 15,
     "metadata": {},
     "output_type": "execute_result"
    }
   ],
   "source": [
    "tfidf_matrix.shape"
   ]
  },
  {
   "cell_type": "markdown",
   "metadata": {},
   "source": [
    "#### 顯示部份詞頻矩陣中的字詞"
   ]
  },
  {
   "cell_type": "code",
   "execution_count": 16,
   "metadata": {},
   "outputs": [
    {
     "name": "stdout",
     "output_type": "stream",
     "text": [
      "['一些', '一倍', '一千', '一口', '一季', '一新', '一方', '一旦', '一步', '一波', '一環', '一百', '一直', '一經', '一致', '一遭', '一部', '一龍', '三方', '三日', '三星', '三種', '三線', '三親', '上升', '上斷', '上本', '上游', '上漲', '世界', '世輝', '並依', '並列', '並加蓋', '並參酌', '並取', '並合', '並呈', '並宣導', '並將', '並對', '並引', '並應', '並擬', '並斷', '並於給', '並於部', '並檢', '並無', '並無給']\n"
     ]
    }
   ],
   "source": [
    "words = tfidf_vectorizer.get_feature_names()\n",
    "print(words[0:50])"
   ]
  },
  {
   "cell_type": "code",
   "execution_count": 17,
   "metadata": {},
   "outputs": [
    {
     "name": "stdout",
     "output_type": "stream",
     "text": [
      "----Document : 2012-4----\n",
      "三日 0.8405501489252789\n",
      "東莞旺 0.44062006894892286\n",
      "百之 0.20013098783935213\n",
      "----Document : 2014-4----\n",
      "三日 0.3986739032972506\n",
      "任何 0.3575993035232177\n",
      "暴險 0.22756319315113854\n",
      "----Document : 2016-4----\n",
      "全球 0.20418440358904028\n",
      "措施 0.22566011142837847\n",
      "液晶 0.25254386759697084\n",
      "獨立 0.21493095114635816\n",
      "----Document : 2016-all----\n",
      "措施 0.21037232733805436\n",
      "液晶 0.23543479104498452\n",
      "獨立 0.20037003493190172\n"
     ]
    }
   ],
   "source": [
    "for i in range(len(data)):\n",
    "    print('----Document : {0}----'.format(title[i]))\n",
    "    for j in range(len(words)):\n",
    "        if tfidf_matrix[i,j] > 0.2:\n",
    "              print(words[j], tfidf_matrix[i,j])"
   ]
  },
  {
   "cell_type": "code",
   "execution_count": 18,
   "metadata": {},
   "outputs": [
    {
     "name": "stdout",
     "output_type": "stream",
     "text": [
      "[[1.         0.38285041 0.22270346 0.21485176]\n",
      " [0.38285041 1.         0.65427831 0.64327289]\n",
      " [0.22270346 0.65427831 1.         0.96860655]\n",
      " [0.21485176 0.64327289 0.96860655 1.        ]]\n"
     ]
    }
   ],
   "source": [
    "dist = cosine_similarity(tfidf_matrix)\n",
    "print(dist)"
   ]
  }
 ],
 "metadata": {
  "kernelspec": {
   "display_name": "Python 3",
   "language": "python",
   "name": "python3"
  },
  "language_info": {
   "codemirror_mode": {
    "name": "ipython",
    "version": 3
   },
   "file_extension": ".py",
   "mimetype": "text/x-python",
   "name": "python",
   "nbconvert_exporter": "python",
   "pygments_lexer": "ipython3",
   "version": "3.5.2"
  },
  "varInspector": {
   "cols": {
    "lenName": 16,
    "lenType": 16,
    "lenVar": 40
   },
   "kernels_config": {
    "python": {
     "delete_cmd_postfix": "",
     "delete_cmd_prefix": "del ",
     "library": "var_list.py",
     "varRefreshCmd": "print(var_dic_list())"
    },
    "r": {
     "delete_cmd_postfix": ") ",
     "delete_cmd_prefix": "rm(",
     "library": "var_list.r",
     "varRefreshCmd": "cat(var_dic_list()) "
    }
   },
   "position": {
    "height": "428px",
    "left": "1493px",
    "right": "20px",
    "top": "115px",
    "width": "350px"
   },
   "types_to_exclude": [
    "module",
    "function",
    "builtin_function_or_method",
    "instance",
    "_Feature"
   ],
   "window_display": false
  }
 },
 "nbformat": 4,
 "nbformat_minor": 2
}
